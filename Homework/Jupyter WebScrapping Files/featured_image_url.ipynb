{
 "cells": [
  {
   "cell_type": "code",
   "execution_count": 6,
   "metadata": {},
   "outputs": [
    {
     "name": "stdout",
     "output_type": "stream",
     "text": [
      "[['https://www.jpl.nasa.gov/spaceimages/images/mediumsize/PIA18907_ip.jpg', 'https://www.jpl.nasa.gov/spaceimages/images/largesize/PIA23297_hires.jpg', 'https://www.jpl.nasa.gov/spaceimages/images/largesize/PIA23296_hires.jpg', 'https://www.jpl.nasa.gov/spaceimages/images/largesize/PIA23295_hires.jpg', 'https://www.jpl.nasa.gov/spaceimages/images/largesize/PIA23294_hires.jpg', 'https://www.jpl.nasa.gov/spaceimages/images/largesize/PIA23293_hires.jpg', 'https://www.jpl.nasa.gov/spaceimages/images/largesize/PIA23292_hires.jpg', 'https://www.jpl.nasa.gov/spaceimages/images/largesize/PIA23284_hires.jpg', 'https://www.jpl.nasa.gov/spaceimages/images/largesize/PIA23289_hires.jpg', 'https://www.jpl.nasa.gov/spaceimages/images/largesize/PIA23288_hires.jpg', 'https://www.jpl.nasa.gov/spaceimages/images/largesize/PIA23287_hires.jpg', 'https://www.jpl.nasa.gov/spaceimages/images/largesize/PIA23286_hires.jpg', 'https://www.jpl.nasa.gov/spaceimages/images/largesize/PIA23283_hires.jpg', 'https://www.jpl.nasa.gov/spaceimages/images/largesize/PIA23301_hires.jpg', 'https://www.jpl.nasa.gov/spaceimages/images/largesize/PIA23250_hires.jpg', 'https://www.jpl.nasa.gov/spaceimages/images/largesize/PIA23249_hires.jpg', 'https://www.jpl.nasa.gov/spaceimages/images/largesize/PIA23282_hires.jpg', 'https://www.jpl.nasa.gov/spaceimages/images/largesize/PIA23281_hires.jpg', 'https://www.jpl.nasa.gov/spaceimages/images/largesize/PIA23260_hires.jpg', 'https://www.jpl.nasa.gov/spaceimages/images/largesize/PIA23259_hires.jpg', 'https://www.jpl.nasa.gov/spaceimages/images/largesize/PIA23258_hires.jpg', 'https://www.jpl.nasa.gov/spaceimages/images/largesize/PIA23277_hires.jpg', 'https://www.jpl.nasa.gov/spaceimages/images/largesize/PIA23276_hires.jpg', 'https://www.jpl.nasa.gov/spaceimages/images/largesize/PIA23274_hires.jpg', 'https://www.jpl.nasa.gov/spaceimages/images/largesize/PIA23272_hires.jpg', 'https://www.jpl.nasa.gov/spaceimages/images/largesize/PIA23271_hires.jpg', 'https://www.jpl.nasa.gov/spaceimages/images/largesize/PIA23248_hires.jpg', 'https://www.jpl.nasa.gov/spaceimages/images/largesize/PIA23247_hires.jpg', 'https://www.jpl.nasa.gov/spaceimages/images/largesize/PIA23246_hires.jpg', 'https://www.jpl.nasa.gov/spaceimages/images/largesize/PIA23245_hires.jpg', 'https://www.jpl.nasa.gov/spaceimages/images/largesize/PIA23257_hires.jpg', 'https://www.jpl.nasa.gov/spaceimages/images/largesize/PIA23256_hires.jpg', 'https://www.jpl.nasa.gov/spaceimages/images/largesize/PIA23255_hires.jpg', 'https://www.jpl.nasa.gov/spaceimages/images/largesize/PIA23254_hires.jpg', 'https://www.jpl.nasa.gov/spaceimages/images/largesize/PIA23243_hires.jpg', 'https://www.jpl.nasa.gov/spaceimages/images/largesize/PIA23242_hires.jpg', 'https://www.jpl.nasa.gov/spaceimages/images/largesize/PIA23241_hires.jpg', 'https://www.jpl.nasa.gov/spaceimages/images/largesize/PIA23240_hires.jpg', 'https://www.jpl.nasa.gov/spaceimages/images/largesize/PIA23253_hires.jpg', 'https://www.jpl.nasa.gov/spaceimages/images/largesize/PIA23252_hires.jpg', 'https://www.jpl.nasa.gov/spaceimages/images/largesize/PIA23251_hires.jpg', 'https://www.jpl.nasa.gov/spaceimages/images/largesize/PIA23226_hires.jpg', 'https://www.jpl.nasa.gov/spaceimages/images/largesize/PIA23225_hires.jpg', 'https://www.jpl.nasa.gov/spaceimages/images/largesize/PIA23224_hires.jpg', 'https://www.jpl.nasa.gov/spaceimages/images/largesize/PIA23223_hires.jpg', 'https://www.jpl.nasa.gov/spaceimages/images/largesize/PIA23222_hires.jpg', 'https://www.jpl.nasa.gov/spaceimages/images/largesize/PIA23221_hires.jpg', 'https://www.jpl.nasa.gov/spaceimages/images/largesize/PIA23220_hires.jpg', 'https://www.jpl.nasa.gov/spaceimages/images/largesize/PIA23239_hires.jpg', 'https://www.jpl.nasa.gov/spaceimages/images/largesize/PIA23238_hires.jpg', 'https://www.jpl.nasa.gov/spaceimages/images/largesize/PIA23233_hires.jpg', 'https://www.jpl.nasa.gov/spaceimages/images/largesize/PIA23232_hires.jpg', 'https://www.jpl.nasa.gov/spaceimages/images/largesize/PIA23231_hires.jpg', 'https://www.jpl.nasa.gov/spaceimages/images/largesize/PIA23230_hires.jpg', 'https://www.jpl.nasa.gov/spaceimages/images/largesize/PIA23179_hires.jpg', 'https://www.jpl.nasa.gov/spaceimages/images/largesize/PIA23219_hires.jpg', 'https://www.jpl.nasa.gov/spaceimages/images/largesize/PIA23218_hires.jpg', 'https://www.jpl.nasa.gov/spaceimages/images/largesize/PIA23217_hires.jpg', 'https://www.jpl.nasa.gov/spaceimages/images/largesize/PIA23216_hires.jpg', 'https://www.jpl.nasa.gov/spaceimages/images/largesize/PIA23208_hires.jpg', 'https://www.jpl.nasa.gov/spaceimages/images/largesize/PIA23207_hires.jpg', 'https://www.jpl.nasa.gov/spaceimages/images/largesize/PIA23206_hires.jpg', 'https://www.jpl.nasa.gov/spaceimages/images/largesize/PIA23205_hires.jpg', 'https://www.jpl.nasa.gov/spaceimages/images/largesize/PIA23204_hires.jpg', 'https://www.jpl.nasa.gov/spaceimages/images/largesize/PIA23200_hires.jpg', 'https://www.jpl.nasa.gov/spaceimages/images/largesize/PIA23199_hires.jpg', 'https://www.jpl.nasa.gov/spaceimages/images/largesize/PIA23198_hires.jpg', 'https://www.jpl.nasa.gov/spaceimages/images/largesize/PIA23203_hires.jpg', 'https://www.jpl.nasa.gov/spaceimages/images/largesize/PIA23197_hires.jpg', 'https://www.jpl.nasa.gov/spaceimages/images/largesize/PIA23192_hires.jpg', 'https://www.jpl.nasa.gov/spaceimages/images/largesize/PIA23191_hires.jpg', 'https://www.jpl.nasa.gov/spaceimages/images/largesize/PIA23190_hires.jpg', 'https://www.jpl.nasa.gov/spaceimages/images/largesize/PIA23202_hires.jpg', 'https://www.jpl.nasa.gov/spaceimages/images/largesize/PIA23201_hires.jpg', 'https://www.jpl.nasa.gov/spaceimages/images/largesize/PIA23180_hires.jpg', 'https://www.jpl.nasa.gov/spaceimages/images/largesize/PIA23189_hires.jpg', 'https://www.jpl.nasa.gov/spaceimages/images/largesize/PIA23188_hires.jpg', 'https://www.jpl.nasa.gov/spaceimages/images/largesize/PIA23187_hires.jpg', 'https://www.jpl.nasa.gov/spaceimages/images/largesize/PIA23178_hires.jpg', 'https://www.jpl.nasa.gov/spaceimages/images/largesize/PIA23186_hires.jpg', 'https://www.jpl.nasa.gov/spaceimages/images/largesize/PIA23177_hires.jpg', 'https://www.jpl.nasa.gov/spaceimages/images/largesize/PIA23176_hires.jpg', 'https://www.jpl.nasa.gov/spaceimages/images/largesize/PIA23120_hires.jpg', 'https://www.jpl.nasa.gov/spaceimages/images/largesize/PIA23119_hires.jpg', 'https://www.jpl.nasa.gov/spaceimages/images/largesize/PIA23116_hires.jpg', 'https://www.jpl.nasa.gov/spaceimages/images/largesize/PIA23115_hires.jpg', 'https://www.jpl.nasa.gov/spaceimages/images/largesize/PIA23114_hires.jpg', 'https://www.jpl.nasa.gov/spaceimages/images/largesize/PIA23184_hires.jpg', 'https://www.jpl.nasa.gov/spaceimages/images/largesize/PIA23183_hires.jpg', 'https://www.jpl.nasa.gov/spaceimages/images/largesize/PIA23112_hires.jpg', 'https://www.jpl.nasa.gov/spaceimages/images/largesize/PIA23111_hires.jpg', 'https://www.jpl.nasa.gov/spaceimages/images/largesize/PIA23140_hires.jpg', 'https://www.jpl.nasa.gov/spaceimages/images/largesize/PIA23138_hires.jpg', 'https://www.jpl.nasa.gov/spaceimages/images/largesize/PIA23137_hires.jpg', 'https://www.jpl.nasa.gov/spaceimages/images/largesize/PIA23139_hires.jpg', 'https://www.jpl.nasa.gov/spaceimages/images/largesize/PIA23110_hires.jpg', 'https://www.jpl.nasa.gov/spaceimages/images/largesize/PIA23109_hires.jpg', 'https://www.jpl.nasa.gov/spaceimages/images/largesize/PIA23108_hires.jpg', 'https://www.jpl.nasa.gov/spaceimages/images/largesize/PIA23107_hires.jpg', 'https://www.jpl.nasa.gov/spaceimages/images/largesize/PIA23095_hires.jpg', 'https://www.jpl.nasa.gov/spaceimages/images/largesize/PIA23135_hires.jpg', 'https://www.jpl.nasa.gov/spaceimages/images/largesize/PIA23134_hires.jpg', 'https://www.jpl.nasa.gov/spaceimages/images/largesize/PIA23133_hires.jpg', 'https://www.jpl.nasa.gov/spaceimages/images/largesize/PIA23094_hires.jpg', 'https://www.jpl.nasa.gov/spaceimages/images/largesize/PIA23106_hires.jpg', 'https://www.jpl.nasa.gov/spaceimages/images/largesize/PIA23105_hires.jpg', 'https://www.jpl.nasa.gov/spaceimages/images/largesize/PIA23104_hires.jpg', 'https://www.jpl.nasa.gov/spaceimages/images/largesize/PIA23103_hires.jpg', 'https://www.jpl.nasa.gov/spaceimages/images/largesize/PIA23093_hires.jpg', 'https://www.jpl.nasa.gov/spaceimages/images/largesize/PIA23092_hires.jpg', 'https://www.jpl.nasa.gov/spaceimages/images/largesize/PIA23091_hires.jpg', 'https://www.jpl.nasa.gov/spaceimages/images/largesize/PIA23090_hires.jpg', 'https://www.jpl.nasa.gov/spaceimages/images/largesize/PIA23089_hires.jpg', 'https://www.jpl.nasa.gov/spaceimages/images/largesize/PIA23088_hires.jpg', 'https://www.jpl.nasa.gov/spaceimages/images/largesize/PIA23087_hires.jpg', 'https://www.jpl.nasa.gov/spaceimages/images/largesize/PIA23086_hires.jpg', 'https://www.jpl.nasa.gov/spaceimages/images/largesize/PIA23085_hires.jpg', 'https://www.jpl.nasa.gov/spaceimages/images/largesize/PIA23084_hires.jpg', 'https://www.jpl.nasa.gov/spaceimages/images/largesize/PIA23083_hires.jpg', 'https://www.jpl.nasa.gov/spaceimages/images/largesize/PIA23082_hires.jpg', 'https://www.jpl.nasa.gov/spaceimages/images/largesize/PIA23101_hires.jpg', 'https://www.jpl.nasa.gov/spaceimages/images/largesize/PIA23100_hires.jpg', 'https://www.jpl.nasa.gov/spaceimages/images/largesize/PIA23099_hires.jpg', 'https://www.jpl.nasa.gov/spaceimages/images/largesize/PIA23098_hires.jpg', 'https://www.jpl.nasa.gov/spaceimages/images/largesize/PIA23081_hires.jpg', 'https://www.jpl.nasa.gov/spaceimages/images/largesize/PIA23076_hires.jpg', 'https://www.jpl.nasa.gov/spaceimages/images/largesize/PIA23075_hires.jpg', 'https://www.jpl.nasa.gov/spaceimages/images/largesize/PIA23074_hires.jpg', 'https://www.jpl.nasa.gov/spaceimages/images/largesize/PIA22910_hires.jpg']]\n"
     ]
    }
   ],
   "source": [
    "from splinter import Browser\n",
    "from bs4 import BeautifulSoup\n",
    "from splinter.exceptions import ElementDoesNotExist\n",
    "# executable_path = {'executable_path': r'C:\\Users\\rohit\\Downloads\\chromedriver.exe'}\n",
    "# browser = Browser('chrome', **executable_path, headless=False)\n",
    "import time \n",
    "browser = Browser(\"chrome\", executable_path=\"chromedriver\", headless=True)\n",
    "\n",
    "def nasa_images():\n",
    "    url ='https://www.jpl.nasa.gov/spaceimages/?search=&category=Mars'\n",
    "    browser.visit(url)\n",
    "    featured_image_url=[]\n",
    "\n",
    "    for y in range(4) : # HTML object\n",
    "        try:\n",
    "            html = browser.html\n",
    "            soup = BeautifulSoup(html, 'lxml')\n",
    "            x = soup.find(\"div\", {\"class\" : \"more_button\"}).find('a').get_text()\n",
    "            browser.click_link_by_text(x)\n",
    "            links = soup.find_all(\"a\",{\"class\":\"fancybox\"})\n",
    "            time.sleep(3)\n",
    "        except: \n",
    "            print(\"href\")\n",
    "\n",
    "\n",
    "    for link in links : \n",
    "        href = link.get('data-fancybox-href')\n",
    "        y =\"https://www.jpl.nasa.gov\"+str(href)\n",
    "        featured_image_url.append(y)\n",
    "    return [featured_image_url]\n",
    "\n",
    "\n",
    "\n",
    "print(nasa_images())       "
   ]
  },
  {
   "cell_type": "code",
   "execution_count": 9,
   "metadata": {},
   "outputs": [
    {
     "name": "stdout",
     "output_type": "stream",
     "text": [
      "https://www.jpl.nasa.gov/spaceimages/images/largesize/PIA14762_hires.jpg\n"
     ]
    }
   ],
   "source": [
    "def featured_image(browser):\n",
    "    url = \"https://www.jpl.nasa.gov/spaceimages/?search=&category=Mars\"\n",
    "    browser.visit(url)\n",
    "\n",
    "    # Find and click the full image button\n",
    "    full_image_elem = browser.find_by_id(\"full_image\")\n",
    "    full_image_elem.click()\n",
    "\n",
    "    # Find the more info button and click that\n",
    "    browser.is_element_present_by_text(\"more info\", wait_time=0.5)\n",
    "    more_info_elem = browser.find_link_by_partial_text(\"more info\")\n",
    "    more_info_elem.click()\n",
    "\n",
    "    # Parse the resulting html with soup\n",
    "    html = browser.html\n",
    "    img_soup = BeautifulSoup(html, \"html.parser\")\n",
    "\n",
    "    # Find the relative image url\n",
    "    img = img_soup.select_one(\"figure.lede a img\")\n",
    "\n",
    "    try:\n",
    "        img_url_rel = img.get(\"src\")\n",
    "\n",
    "    except AttributeError:\n",
    "        return None\n",
    "\n",
    "    # Use the base url to create an absolute url\n",
    "    img_url = f\"https://www.jpl.nasa.gov{img_url_rel}\"\n",
    "\n",
    "    return img_url\n",
    "\n",
    "print(featured_image(browser))"
   ]
  },
  {
   "cell_type": "code",
   "execution_count": 11,
   "metadata": {},
   "outputs": [
    {
     "name": "stdout",
     "output_type": "stream",
     "text": [
      "InSight sol 212 (2019-07-02) low -102.1ºC (-151.8ºF) high -24.2ºC (-11.6ºF)\n",
      "winds from the SSE at 4.3 m/s (9.5 mph) gusting to 15.7 m/s (35.2 mph)\n",
      "pressure at 7.60 hPapic.twitter.com/nm8kOX6ed2\n"
     ]
    }
   ],
   "source": [
    "def twitter_weather(browser):\n",
    "    url = \"https://twitter.com/marswxreport?lang=en\"\n",
    "    browser.visit(url)\n",
    "\n",
    "    html = browser.html\n",
    "    weather_soup = BeautifulSoup(html, \"html.parser\")\n",
    "\n",
    "    # First, find a tweet with the data-name `Mars Weather`\n",
    "    tweet_attrs = {\"class\": \"tweet\", \"data-name\": \"Mars Weather\"}\n",
    "    mars_weather_tweet = weather_soup.find(\"div\", attrs=tweet_attrs)\n",
    "\n",
    "    # Next, search within the tweet for the p tag containing the tweet text\n",
    "    mars_weather = mars_weather_tweet.find(\"p\", \"tweet-text\").get_text()\n",
    "\n",
    "    return mars_weather\n",
    "\n",
    "print(twitter_weather(browser))\n"
   ]
  },
  {
   "cell_type": "code",
   "execution_count": null,
   "metadata": {},
   "outputs": [],
   "source": []
  },
  {
   "cell_type": "code",
   "execution_count": null,
   "metadata": {},
   "outputs": [],
   "source": []
  }
 ],
 "metadata": {
  "kernelspec": {
   "display_name": "Python 3",
   "language": "python",
   "name": "python3"
  },
  "language_info": {
   "codemirror_mode": {
    "name": "ipython",
    "version": 3
   },
   "file_extension": ".py",
   "mimetype": "text/x-python",
   "name": "python",
   "nbconvert_exporter": "python",
   "pygments_lexer": "ipython3",
   "version": "3.7.1"
  }
 },
 "nbformat": 4,
 "nbformat_minor": 2
}
