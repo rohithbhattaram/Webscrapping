{
 "cells": [
  {
   "cell_type": "code",
   "execution_count": 37,
   "metadata": {},
   "outputs": [
    {
     "name": "stdout",
     "output_type": "stream",
     "text": [
      "[\"The Mast Is Raised for NASA's Mars 2020 Rover\", \"NASA's Mars 2020 Will Blaze a Trail — for Humans\", 'Johnson-Built Device to Help Mars 2020 Rover Search for Signs of Life', 'Watch NASA Build Its Next Mars Rover', \"NASA's Mars Helicopter Testing Enters Final Phase\", \"InSight's Team Tries New Strategy to Help the 'Mole'\", \"Common Questions about InSight's 'Mole'\", \"NASA's Curiosity Mars Rover Finds a Clay Cache\", 'NASA to Land in Mars, Pennsylvania to Celebrate Red Planet with STEAM', \"NASA's Mars 2020 Gets a Dose of Space Here on Earth\", 'NASA Invites Public to Submit Names to Fly Aboard Next Mars Rover', \"NASA's MRO Completes 60,000 Trips Around Mars\", 'Video: Fly over Mount Sharp on Mars', 'Why This Martian Full Moon Looks Like Candy', 'For InSight, Dust Cleanings Will Yield New Science', 'InSight Captures Sunrise and Sunset on Mars', 'NASA Social Media and Websites Win Webby Awards ', \"NASA's InSight Detects First Likely 'Quake' on Mars\", \"Things Are Stacking up for NASA's Mars 2020 Spacecraft\", \"Curiosity Tastes First Sample in 'Clay-Bearing Unit'\", \"More Testing for Mars InSight's 'Mole'\", 'NASA Garners 7 Webby Award Nominations', 'Curiosity Captured Two Solar Eclipses on Mars', \"NASA's Mars Helicopter Completes Flight Tests\", 'Asteroids, Hydrogen Make Great Recipe for Life on Mars', \"Catch NASA's JPL at the Clippers SciFest This Weekend\", \"NASA's Mars 2020 Rover Is Put to the Test\", \"Opportunity's Parting Shot Was a Beautiful Panorama\", 'Curiosity Resumes Operations After Switching Computers', 'InSight Lands Praise and a Proclamation from LA County', 'InSight Is the Newest Mars Weather Service', \"Six Things to Know About NASA's Opportunity Rover\", \"NASA's Opportunity Rover Mission on Mars Comes to End\", \"NASA's InSight Prepares to Take Mars' Temperature\", 'NASA to Share Results of Effort to Recover Mars Rover', \"NASA's MAVEN Spacecraft Shrinking its Mars Orbit to Prepare for Mars 2020 Rover\", '360 Video: Curiosity Rover Departs Vera Rubin Ridge', 'Beyond Mars, the Mini MarCO Spacecraft Fall Silent', \"InSight's Seismometer Now Has a Cozy Shelter on Mars\", '\"Mars Buggy\" Curiosity Measures a Mountain\\'s Gravity', \"Curiosity Says Farewell to Mars' Vera Rubin Ridge\", 'Rover Team Beaming New Commands to Opportunity on Mars', \"NASA's Opportunity Rover Logs 15 Years on Mars\", \"NASA's InSight Places First Instrument on Mars\", 'InSight Engineers Have Made a Martian Rock Garden', 'Mars InSight Lander Seen in First Images from Space ', \"NASA's InSight Takes Its First Selfie\", \"NASA InSight Lander 'Hears' Martian Winds \", \"NASA's Mars InSight Flexes Its Arm\", \"Mars New Home 'a Large Sandbox'\", 'NASA Hears MarCO CubeSats Loud and Clear from Mars ', 'InSight Is Catching Rays on Mars', 'NASA InSight Lander Arrives on Martian Surface ', 'Landing Day for InSight', 'NASA InSight Landing on Mars: Milestones', 'NASA InSight Team on Course for Mars Touchdown', 'What Two Planetary Siblings Can Teach Us About Life', 'NASA Announces Landing Site for Mars 2020 Rover', 'NASA to Host Media Call on Next Mars Landing Site', 'How NASA Will Know When InSight Touches Down', 'NASA Brings Mars Landing to Viewers Everywhere', 'Curiosity on the Move Again', 'The Mars InSight Landing Site Is Just Plain Perfect', \"Five Things to Know About InSight's Mars Landing\", 'NASA Launches a New Podcast to Mars', 'Update on Opportunity Rover Recovery Efforts', 'Third ASPIRE Test Confirms Mars 2020 Parachute a Go', 'NASA to Host Briefing on November Mars InSight Landing', \"NASA's InSight Will Study Mars While Standing Still\", \"NASA's First Image of Mars from a CubeSat\", \"The 'Claw Game' on Mars: NASA InSight Plays to Win\", 'Scientists to Debate Landing Site for Next Mars Rover', 'Mars Virtual Reality Software Wins NASA Award', 'Painting Cars for Mars', 'Opportunity Emerges in a Dusty Picture', 'NASA Seeking Partner in Contest to Name Next Mars Rover', \"NASA's MAVEN Selfie Marks Four Years in Orbit at Mars\", 'MarCO Makes Space for Small Explorers', 'Curiosity Surveys a Mystery Under Dusty Skies', \"NASA's InSight Has a Thermometer for Mars\", 'Digital Creators: Apply for NASA Mars Landing Event', \"NASA's InSight Passes Halfway to Mars, Instruments Check In\", \"Six Things About Opportunity's Recovery Efforts\", \"Meet the People Behind NASA's InSight Mars Lander\", 'Mars Terraforming Not Possible Using Present-Day Technology', 'Opportunity Hunkers Down During Dust Storm', 'NASA Statement on Possible Subsurface Lake near Martian South Pole', \"JPL's 'Martians' Are Coming to Griffith Observatory\", \"NASA's MAVEN Spacecraft Finds That 'Stolen' Electrons Enable Unusual Aurora on Mars\", \"'Storm Chasers' on Mars Searching for Dusty Secrets\", 'NASA Mars Mission Adds Southern California Dates', 'Curiosity Captures Photos of Thickening Dust', 'NASA Encounters the Perfect Storm for Science', 'Media Telecon About Mars Dust Storm, Opportunity', 'NASA Finds Ancient Organic Material, Mysterious Methane on Mars', 'NASA to Host Live Discussion on New Mars Science Results', \"Mars Curiosity's Labs Are Back in Action\", 'NASA CubeSats Steer Toward Mars', 'Scientists Shrink Chemistry Lab to Seek Evidence of Life on Mars', 'InSight Steers Toward Mars', 'Drilling Success: Curiosity is Collecting Mars Rocks', \"NASA's Curiosity Rover Aims to Get Its Rhythm Back\", 'A Pale Blue Dot, As Seen by a CubeSat', \"Mars Helicopter to Fly on NASA's Next Red Planet Rover Mission\", \"NASA's First Deep-Space CubeSats Say: 'Polo!'\", 'NASA, ULA Launch Mission to Study How Mars Was Made', \"NASA's First Mission to Study the Interior of Mars Awaits May 5 Launch\", \"Vice President Pence Visits JPL, Previews NASA's Next Mars Mission Launch\", 'NASA Sets Sights on May 5 Launch of InSight to Mars', 'Results of Heat Shield Testing', 'NASA Engineers Dream Big with Small Spacecraft', 'Bound for Mars: Countdown to First Interplanetary Launch from California', 'NASA Invests in Visionary Technology ', 'NASA is Ready to Study the Heart of Mars', \"‘Marsquakes' Could Shake Up Planetary Science\", 'Mars Curiosity Celebrates Sol 2,000', 'NASA Briefing on First Mission to Study Mars Interior', \"New 'AR' Mobile App Features 3-D NASA Spacecraft\", 'NASA Mars Mission Tours California', 'Next NASA Mars Rover Reaches Key Manufacturing Milestone']\n"
     ]
    }
   ],
   "source": [
    "from splinter import Browser\n",
    "from bs4 import BeautifulSoup\n",
    "from splinter.exceptions import ElementDoesNotExist\n",
    "executable_path = {'executable_path': r'C:\\Users\\rohit\\Downloads\\chromedriver.exe'}\n",
    "browser = Browser('chrome', **executable_path, headless=False)\n",
    "\n",
    "\n",
    "def nasa_articles():\n",
    "    url ='https://mars.nasa.gov/news/?page=0&per_page=40&order=publish_date+desc%2Ccreated_at+desc&search=&category=19%2C165%2C184%2C204&blank_scope=Latest'\n",
    "    browser.visit(url)\n",
    "    news_title = []\n",
    "    href_link =[]\n",
    "    news_p = []\n",
    "    for x in range(10):\n",
    "        # HTML object\n",
    "        html = browser.html\n",
    "        # Parse HTML with Beautiful Soup\n",
    "        soup = BeautifulSoup(html, 'lxml')\n",
    "    #   list_footer more_button\n",
    "        buttons = browser.find_link_by_text('More')\n",
    "        buttons_length = len(buttons)\n",
    "        buttons[1].click()\n",
    "    # Retrieve all elements that contain book information\n",
    "    articles = soup.find('ul', class_='item_list')\n",
    "    # Iterate through each book\n",
    "    for article in articles:\n",
    "        # Use Beautiful Soup's find() method to navigate and retrieve attributes\n",
    "        title = article.find(\"div\", {\"class\" : \"content_title\"}).find('a').get_text()\n",
    "        href = article.find(\"div\", {\"class\" : \"content_title\"}).a['href']\n",
    "        teaser = article.find(\"div\", {\"class\" : \"article_teaser_body\"}).get_text()\n",
    "        news_title.append(title)\n",
    "        href_link.append(href)\n",
    "        news_p.append(teaser)\n",
    "        \n",
    "    return news_title,href_link,news_p\n",
    "        \n",
    "    \n",
    "\n",
    "    \n",
    "\n",
    "    "
   ]
  },
  {
   "cell_type": "code",
   "execution_count": null,
   "metadata": {},
   "outputs": [],
   "source": []
  },
  {
   "cell_type": "code",
   "execution_count": null,
   "metadata": {},
   "outputs": [],
   "source": []
  },
  {
   "cell_type": "code",
   "execution_count": null,
   "metadata": {},
   "outputs": [],
   "source": []
  }
 ],
 "metadata": {
  "kernelspec": {
   "display_name": "Python 3",
   "language": "python",
   "name": "python3"
  },
  "language_info": {
   "codemirror_mode": {
    "name": "ipython",
    "version": 3
   },
   "file_extension": ".py",
   "mimetype": "text/x-python",
   "name": "python",
   "nbconvert_exporter": "python",
   "pygments_lexer": "ipython3",
   "version": "3.7.1"
  }
 },
 "nbformat": 4,
 "nbformat_minor": 2
}
