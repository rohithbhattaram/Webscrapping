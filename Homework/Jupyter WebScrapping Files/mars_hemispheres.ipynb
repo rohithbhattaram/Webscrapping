{
 "cells": [
  {
   "cell_type": "code",
   "execution_count": 5,
   "metadata": {},
   "outputs": [
    {
     "name": "stdout",
     "output_type": "stream",
     "text": [
      "https://astrogeology.usgs.gov/search/results?q=hemisphere+enhanced&k1=target&v1=Mars\n",
      "https://astrogeology.usgs.gov/search/results?q=hemisphere+enhanced&k1=target&v1=Mars\n",
      "[[{'img_url': 'http://astropedia.astrogeology.usgs.gov/download/Mars/Viking/cerberus_enhanced.tif/full.jpg', 'title': 'Cerberus Hemisphere Enhanced'}, {'img_url': 'http://astropedia.astrogeology.usgs.gov/download/Mars/Viking/schiaparelli_enhanced.tif/full.jpg', 'title': 'Schiaparelli Hemisphere Enhanced'}, {'img_url': 'http://astropedia.astrogeology.usgs.gov/download/Mars/Viking/syrtis_major_enhanced.tif/full.jpg', 'title': 'Syrtis Major Hemisphere Enhanced'}, {'img_url': 'http://astropedia.astrogeology.usgs.gov/download/Mars/Viking/valles_marineris_enhanced.tif/full.jpg', 'title': 'Valles Marineris Hemisphere Enhanced'}]]\n"
     ]
    }
   ],
   "source": [
    "import pandas as pd \n",
    "from splinter import Browser\n",
    "from bs4 import BeautifulSoup\n",
    "from splinter.exceptions import ElementDoesNotExist\n",
    "executable_path = {'executable_path': r'C:\\Users\\rohit\\Downloads\\chromedriver.exe'}\n",
    "browser = Browser('chrome', **executable_path, headless=False)\n",
    "import time \n",
    "\n",
    "\n",
    "def mars_hemispheres() : \n",
    "\n",
    "    base_url='https://astrogeology.usgs.gov/search/results?q=hemisphere+enhanced&k1=target&v1=Mars'\n",
    "    url=base_url\n",
    "    print(base_url)\n",
    "    print(url)\n",
    "\n",
    "    browser.visit(url)\n",
    "    hemisphere_info= []\n",
    "\n",
    "\n",
    "    def read_base_page():\n",
    "        links = browser.find_by_css(\"a.product-item h3\")\n",
    "        return links \n",
    "\n",
    "    links = read_base_page()\n",
    "\n",
    "    def read_html():\n",
    "        html = browser.html\n",
    "        soup = BeautifulSoup(html, 'lxml')\n",
    "        return soup\n",
    "\n",
    "\n",
    "\n",
    "    for x in range(len(links)) : \n",
    "        hemisphere = {}\n",
    "        links= read_base_page()\n",
    "        links[x].click()\n",
    "        soup = read_html()\n",
    "        title = soup.find(\"h2\", {\"class\" : \"title\"}).get_text()\n",
    "        href = soup.find(\"div\", {\"class\" : \"downloads\"}).a['href']\n",
    "        hemisphere['img_url'] = href\n",
    "        hemisphere['title']= title \n",
    "        hemisphere_info.append(hemisphere)\n",
    "        browser.back()\n",
    "        time.sleep(2)\n",
    "\n",
    "    return hemisphere_info\n",
    "\n",
    "\n",
    "\n",
    "\n",
    "\n",
    "\n",
    "  \n",
    "\n"
   ]
  },
  {
   "cell_type": "code",
   "execution_count": null,
   "metadata": {},
   "outputs": [],
   "source": []
  },
  {
   "cell_type": "code",
   "execution_count": null,
   "metadata": {},
   "outputs": [],
   "source": []
  }
 ],
 "metadata": {
  "kernelspec": {
   "display_name": "Python 3",
   "language": "python",
   "name": "python3"
  },
  "language_info": {
   "codemirror_mode": {
    "name": "ipython",
    "version": 3
   },
   "file_extension": ".py",
   "mimetype": "text/x-python",
   "name": "python",
   "nbconvert_exporter": "python",
   "pygments_lexer": "ipython3",
   "version": "3.7.1"
  }
 },
 "nbformat": 4,
 "nbformat_minor": 2
}
