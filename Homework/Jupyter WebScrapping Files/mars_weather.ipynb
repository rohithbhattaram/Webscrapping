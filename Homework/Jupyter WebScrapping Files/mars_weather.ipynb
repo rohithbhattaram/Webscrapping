{
 "cells": [
  {
   "cell_type": "code",
   "execution_count": 42,
   "metadata": {},
   "outputs": [
    {
     "name": "stdout",
     "output_type": "stream",
     "text": [
      "[['InSight sol 195 (2019-06-14) low -105.6ºC (-158.1ºF) high -23.8ºC (-10.8ºF)\\nwinds from the SSE at 4.3 m/s (9.7 mph) gusting to 14.5 m/s (32.5 mph)\\npressure at 7.60 hPapic.twitter.com/3LNNz5uXCd', 'InSight sol 194 (2019-06-13) low -104.4ºC (-155.9ºF) high -23.5ºC (-10.3ºF)\\nwinds from the SSE at 4.5 m/s (10.0 mph) gusting to 17.0 m/s (38.1 mph)\\npressure at 7.60 hPa', 'InSight sol 193 (2019-06-12) low -103.7ºC (-154.7ºF) high -23.0ºC (-9.4ºF)\\nwinds from the SSE at 4.4 m/s (9.8 mph) gusting to 15.7 m/s (35.1 mph)\\npressure at 7.60 hPapic.twitter.com/EhemsIhPLv', 'InSight sol 192 (2019-06-11) low -104.9ºC (-156.8ºF) high -23.6ºC (-10.6ºF)\\nwinds from the W at 4.3 m/s (9.7 mph) gusting to 15.4 m/s (34.4 mph)\\npressure at 7.60 hPapic.twitter.com/qacCeZLc6e', 'InSight sol 191 (2019-06-10) low -104.9ºC (-156.9ºF) high -21.6ºC (-6.9ºF)\\nwinds from the SSE at 4.4 m/s (9.9 mph) gusting to 15.2 m/s (33.9 mph)\\npressure at 7.60 hPa', 'InSight sol 190 (2019-06-09) low -104.1ºC (-155.3ºF) high -22.5ºC (-8.5ºF)\\nwinds from the SSE at 4.6 m/s (10.3 mph) gusting to 16.6 m/s (37.1 mph)\\npressure at 7.60 hPapic.twitter.com/Z6vS1S8RJo', 'InSight sol 189 (2019-06-08) low -102.2ºC (-152.0ºF) high -22.4ºC (-8.3ºF)\\nwinds from the SSE at 4.7 m/s (10.5 mph) gusting to 16.5 m/s (36.9 mph)\\npressure at 7.60 hPa', 'InSight sol 188 (2019-06-07) low -102.5ºC (-152.6ºF) high -21.9ºC (-7.4ºF)\\nwinds from the SSE at 4.8 m/s (10.8 mph) gusting to 15.6 m/s (35.0 mph)\\npressure at 7.60 hPapic.twitter.com/ocUTA1rgaU', 'InSight sol 187 (2019-06-06) low -102.8ºC (-153.1ºF) high -21.9ºC (-7.5ºF)\\nwinds from the SSE at 4.4 m/s (9.8 mph) gusting to 16.1 m/s (36.1 mph)\\npressure at 7.60 hPa', 'InSight sol 186 (2019-06-05) low -101.7ºC (-151.0ºF) high -21.8ºC (-7.2ºF)\\nwinds from the SSE at 4.6 m/s (10.3 mph) gusting to 16.2 m/s (36.3 mph)\\npressure at 7.60 hPa', 'InSight sol 185 (2019-06-04) low -100.7ºC (-149.3ºF) high -21.2ºC (-6.2ºF)\\nwinds from the W at 4.5 m/s (10.1 mph) gusting to 15.3 m/s (34.3 mph)\\npressure at 7.60 hPa', 'Watch the #Mars2020 rover being built live from @NASAJPLhttps://youtu.be/PaNiYPglK58\\xa0', 'InSight sol 184 (2019-06-03) low -101.3ºC (-150.4ºF) high -22.1ºC (-7.7ºF)\\nwinds from the W at 4.5 m/s (10.0 mph) gusting to 15.2 m/s (33.9 mph)\\npressure at 7.60 hPapic.twitter.com/9e75FL7Fj5', 'InSight sol 183 (2019-06-02) low -101.1ºC (-150.0ºF) high -22.3ºC (-8.2ºF)\\nwinds from the SSE at 4.9 m/s (11.1 mph) gusting to 15.2 m/s (33.9 mph)\\npressure at 7.60 hPapic.twitter.com/X7ISVrTgLY', 'InSight sol 182 (2019-06-01) low -99.7ºC (-147.5ºF) high -22.6ºC (-8.7ºF)\\nwinds from the SSE at 5.7 m/s (12.7 mph) gusting to 15.9 m/s (35.5 mph)\\npressure at 7.50 hPapic.twitter.com/NmzIAqOiDG', 'InSight sol 181 (2019-05-31) low -100.6ºC (-149.1ºF) high -20.7ºC (-5.3ºF)\\nwinds from the SW at 5.1 m/s (11.3 mph) gusting to 14.9 m/s (33.3 mph)\\npressure at 7.50 hPapic.twitter.com/li2rdNRsJx', 'InSight sol 180 (2019-05-30) low -101.1ºC (-149.9ºF) high -21.8ºC (-7.2ºF)\\nwinds from the S at 4.7 m/s (10.5 mph) gusting to 14.7 m/s (32.9 mph)\\npressure at 7.50 hPapic.twitter.com/nkAZ6rX9xE', 'InSight sol 179 (2019-05-29) low -101.0ºC (-149.8ºF) high -21.5ºC (-6.6ºF)\\nwinds from the SW at 4.8 m/s (10.8 mph) gusting to 14.5 m/s (32.4 mph)\\npressure at 7.50 hPapic.twitter.com/nWS2m2GBsM', 'InSight sol 178 (2019-05-28) low -101.1ºC (-150.0ºF) high -23.0ºC (-9.5ºF)\\nwinds from the SW at 4.8 m/s (10.8 mph) gusting to 15.0 m/s (33.5 mph)\\npressure at 7.50 hPapic.twitter.com/4Ejlnu9Kam', 'InSight sol 177 (2019-05-27) low -100.7ºC (-149.2ºF) high -21.3ºC (-6.4ºF)\\nwinds from the SW at 4.2 m/s (9.5 mph) gusting to 17.1 m/s (38.2 mph)\\npressure at 7.50 hPapic.twitter.com/lMkrj33O50', 'InSight sol 176 (2019-05-26) low -100.3ºC (-148.6ºF) high -19.9ºC (-3.9ºF)\\nwinds from the W at 4.2 m/s (9.5 mph) gusting to 15.9 m/s (35.6 mph)\\npressure at 7.50 hPapic.twitter.com/rI1XSUC5yf', 'Mars Weather Retweeted Mars Mission Images', 'InSight sol 174 (2019-05-24) low -101.1ºC (-149.9ºF) high -21.3ºC (-6.4ºF)\\nwinds from the SW at 4.3 m/s (9.6 mph) gusting to 16.3 m/s (36.5 mph)\\npressure at 7.50 hPapic.twitter.com/7XARGO6DS6', 'Dr. Caroline Beghein Retweeted SEIS', 'InSight sol 173 (2019-05-22) low -100.9ºC (-149.6ºF) high -20.9ºC (-5.7ºF)\\nwinds from the SW at 4.3 m/s (9.7 mph) gusting to 14.1 m/s (31.5 mph)\\npressure at 7.50 hPapic.twitter.com/iKQwpaUtDj', 'InSight sol 172 (2019-05-22) low -133.5ºC (-208.3ºF) high -20.0ºC (-4.0ºF)\\npressure at 7.50 hPa', 'InSight sol 171 (2019-05-21) low -100.5ºC (-148.8ºF) high -20.9ºC (-5.7ºF)\\nwinds from the SW at 4.9 m/s (11.0 mph) gusting to 14.8 m/s (33.2 mph)\\npressure at 7.50 hPa', 'InSight sol 170 (2019-05-20) low -100.9ºC (-149.6ºF) high -21.2ºC (-6.1ºF)\\nwinds from the SW at 4.7 m/s (10.5 mph) gusting to 14.6 m/s (32.6 mph)\\npressure at 7.50 hPapic.twitter.com/md3upbYmBI', 'InSight sol 169 (2019-05-18) low -100.6ºC (-149.1ºF) high -17.6ºC (0.4ºF)\\nwinds from the S at 4.6 m/s (10.2 mph) gusting to 15.5 m/s (34.7 mph)\\npressure at 7.50 hPapic.twitter.com/QKbNMc35Ia', 'InSight sol 168 (2019-05-17) low -100.5ºC (-148.9ºF) high -19.6ºC (-3.3ºF)\\nwinds from the SW at 4.5 m/s (10.1 mph) gusting to 12.6 m/s (28.1 mph)\\npressure at 7.50 hPa', 'Yes, Mars has clouds. Beautiful images from @MarsCuriosity Sol 2410 https://marsmobile.jpl.nasa.gov/msl/multimedia/raw/?s=2410&camera=NAV_RIGHT_\\xa0…pic.twitter.com/3k0wBT6Qpv', 'InSight sol 167 (2019-05-17) low -100.5ºC (-148.9ºF) high -20.4ºC (-4.6ºF)\\nwinds from the SW at 4.7 m/s (10.6 mph) gusting to 13.5 m/s (30.3 mph)\\npressure at 7.50 hPapic.twitter.com/0Eqt9nN21o', 'InSight sol 166 (2019-05-15) low -100.5ºC (-148.8ºF) high -20.5ºC (-4.8ºF)\\nwinds from the W at 4.2 m/s (9.4 mph) gusting to 11.7 m/s (26.2 mph)\\npressure at 7.50 hPa', \"Congratulations to our orbiting companion! \\n@NASA's MRO Completes 60,000 Trips Around #Mars: https://go.nasa.gov/2w0c36K\\xa0.pic.twitter.com/Q0jtKuxBK5\", 'InSight sol 165 (2019-05-15) low -100.3ºC (-148.6ºF) high -18.2ºC (-0.7ºF)\\nwinds from the SW at 4.6 m/s (10.4 mph) gusting to 13.7 m/s (30.6 mph)\\npressure at 7.50 hPapic.twitter.com/7NMgdAkFA8', 'InSight sol 164 (2019-05-13) low -100.0ºC (-147.9ºF) high -16.6ºC (2.1ºF)\\nwinds from the W at 4.1 m/s (9.1 mph) gusting to 15.1 m/s (33.7 mph)\\npressure at 7.50 hPapic.twitter.com/XqV9CJUUoa', 'InSight sol 163 (2019-05-13) low -99.9ºC (-147.7ºF) high -17.7ºC (0.2ºF)\\nwinds from the SW at 4.3 m/s (9.7 mph) gusting to 15.2 m/s (34.0 mph)\\npressure at 7.50 hPapic.twitter.com/qtElTnSRJj', 'InSight sol 162 (2019-05-12) low -100.2ºC (-148.3ºF) high -20.3ºC (-4.5ºF)\\nwinds from the SW at 4.5 m/s (10.1 mph) gusting to 14.3 m/s (32.0 mph)\\npressure at 7.50 hPapic.twitter.com/23uEPf5baF', 'InSight sol 161 (2019-05-11) low -98.6ºC (-145.5ºF) high -19.5ºC (-3.0ºF)\\nwinds from the SSE at 4.8 m/s (10.7 mph) gusting to 15.2 m/s (34.0 mph)\\npressure at 7.50 hPapic.twitter.com/dWgg2eD22v', 'InSight sol 160 (2019-05-09) low -99.5ºC (-147.0ºF) high -19.4ºC (-2.8ºF)\\nwinds from the W at 4.2 m/s (9.3 mph) gusting to 13.5 m/s (30.3 mph)\\npressure at 7.40 hPapic.twitter.com/OX6H1whWDC']]\n"
     ]
    }
   ],
   "source": [
    "from splinter import Browser\n",
    "from bs4 import BeautifulSoup\n",
    "from splinter.exceptions import ElementDoesNotExist\n",
    "executable_path = {'executable_path': r'C:\\Users\\rohit\\Downloads\\chromedriver.exe'}\n",
    "browser = Browser('chrome', **executable_path, headless=False)\n",
    "import time \n",
    "\n",
    "def mars_twitter():\n",
    "    url ='https://twitter.com/marswxreport?lang=en'\n",
    "    browser.visit(url)\n",
    "    mars_tweets=[]\n",
    "    tweets = \" \"\n",
    "    time.sleep(2)\n",
    "    for y in range(5) : # HTML object\n",
    "            html = browser.html\n",
    "            soup = BeautifulSoup(html, 'lxml')\n",
    "            browser.execute_script(\"window.scrollTo(0, document.body.scrollHeight);\")\n",
    "            time.sleep(2)\n",
    "            tweets = soup.find_all(\"li\", {\"class\" : \"js-stream-item stream-item stream-item \"})\n",
    "\n",
    "\n",
    "    for tweet in tweets : \n",
    "        x= tweet. find(\"div\", {\"class\" : \"content\"}).find('p').get_text()\n",
    "        mars_tweets.append(x)\n",
    "\n",
    "\n",
    "    return mars_tweets\n",
    "\n",
    " \n"
   ]
  },
  {
   "cell_type": "code",
   "execution_count": null,
   "metadata": {},
   "outputs": [],
   "source": [
    "\n"
   ]
  },
  {
   "cell_type": "code",
   "execution_count": null,
   "metadata": {},
   "outputs": [],
   "source": []
  }
 ],
 "metadata": {
  "kernelspec": {
   "display_name": "Python 3",
   "language": "python",
   "name": "python3"
  },
  "language_info": {
   "codemirror_mode": {
    "name": "ipython",
    "version": 3
   },
   "file_extension": ".py",
   "mimetype": "text/x-python",
   "name": "python",
   "nbconvert_exporter": "python",
   "pygments_lexer": "ipython3",
   "version": "3.7.1"
  }
 },
 "nbformat": 4,
 "nbformat_minor": 2
}
